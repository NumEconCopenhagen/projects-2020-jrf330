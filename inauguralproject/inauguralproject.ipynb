{
 "cells": [
  {
   "cell_type": "markdown",
   "metadata": {},
   "source": [
    "# Inaugural Project"
   ]
  },
  {
   "cell_type": "markdown",
   "metadata": {},
   "source": [
    "Imports and set magics:"
   ]
  },
  {
   "cell_type": "code",
   "execution_count": 1,
   "metadata": {},
   "outputs": [],
   "source": [
    "import numpy as np\n",
    "import matplotlib.pyplot as plt\n",
    "from scipy import optimize\n",
    "\n",
    "# autoreload modules when code is run\n",
    "%load_ext autoreload\n",
    "%autoreload 2\n",
    "\n",
    "# local modules\n",
    "import inauguralproject #This module contains the utlity function"
   ]
  },
  {
   "cell_type": "markdown",
   "metadata": {
    "toc-hr-collapsed": true
   },
   "source": [
    "# Question 1"
   ]
  },
  {
   "cell_type": "markdown",
   "metadata": {},
   "source": [
    "I construct a function which solves the maximisation probelm using that utility is monotonically increasing in c and a solver. "
   ]
  },
  {
   "cell_type": "code",
   "execution_count": 2,
   "metadata": {},
   "outputs": [],
   "source": [
    "#initial arbitrary parametervalues\n",
    "m = 1\n",
    "v = 10\n",
    "epsilon = 0.3\n",
    "tau0 = 0.4\n",
    "tau1 = 0.1\n",
    "kappa = 0.4\n",
    "w = 1\n",
    "\n",
    "#Objective function (to minimize)\n",
    "def value_of_choice(l, m, v, epsilon, tau0, tau1, kappa, w):\n",
    "    x = m + w*l - (tau0 * w * l + tau1* np.max(w * l - kappa, 0))\n",
    "    c = x #Monotonicity dicates this in solution\n",
    "    return -inauguralproject.u_func(l, c, v, epsilon) #the negative utility function is minimised thus the utility function is maximised\n",
    "\n",
    "#Call solver\n",
    "sol = optimize.minimize_scalar(value_of_choice, method = 'bounded', bounds=(0,1),args = (m,v,epsilon,tau0,tau1,kappa,w))\n",
    "\n",
    "#Unpack entire solution\n",
    "l = sol.x\n",
    "c = m + w*l - (tau0 * w * l + tau1* np.max(w * l - kappa, 0))\n",
    "u = inauguralproject.u_func(l, c, v, epsilon)"
   ]
  },
  {
   "cell_type": "markdown",
   "metadata": {},
   "source": [
    "# Question 2"
   ]
  },
  {
   "cell_type": "markdown",
   "metadata": {},
   "source": [
    "Using a loop and the above function, a range of wage levels are analysed and relevant equilibrum values are saved throughout. Finally, the equilibrium values of labour and consumption are plotted against the wage rate."
   ]
  },
  {
   "cell_type": "code",
   "execution_count": 3,
   "metadata": {},
   "outputs": [
    {
     "data": {
      "image/png": "[encoded data removed]",
      "text/plain": [
       "<Figure size 432x288 with 1 Axes>"
      ]
     },
     "metadata": {
      "needs_background": "light"
     },
     "output_type": "display_data"
    }
   ],
   "source": [
    "#Initialise empty arrays for labour and consumption\n",
    "l_array = np.empty((0,100))\n",
    "c_array = np.empty((0,100))\n",
    "\n",
    "#Given parameter values\n",
    "m = 1\n",
    "v = 10\n",
    "epsilon = 0.3\n",
    "tau0 = 0.4\n",
    "tau1 = 0.1\n",
    "kappa = 0.4\n",
    "w_list = np.arange(0.5, 1.51, 0.01).tolist() #list of wages in the interval [0.5,1.5] in intervals of 0.01\n",
    "\n",
    "for i,w in enumerate(w_list): #loops over list of wages\n",
    "    #Objective function (to minimize)\n",
    "    def value_of_choice(l, m, v, epsilon, tau0, tau1, kappa, w):\n",
    "        x = m + w*l - (tau0 * w * l + tau1* np.max(w * l - kappa, 0))\n",
    "        c = x #Monotonicity dicates this in solution\n",
    "        return -inauguralproject.u_func(l, c, v, epsilon) #the negative utility function is minimised thus the utility function is maximised\n",
    "\n",
    "    #Call solver\n",
    "    sol = optimize.minimize_scalar(value_of_choice, method = 'bounded', bounds=(0,1),args = (m,v,epsilon,tau0,tau1,kappa,w))\n",
    "\n",
    "    #Unpack entire solution and append equilibrium values to arrays\n",
    "    l = sol.x\n",
    "    c = m + w*l - (tau0 * w * l + tau1* np.max(w * l - kappa, 0))\n",
    "    l_array = np.append(l_array, l)\n",
    "    c_array = np.append(c_array, c)\n",
    "    \n",
    "#Creating a single plot for equilibruim values of labour and consumption as functions of the wage\n",
    "fig = plt.figure()\n",
    "ax = fig.add_subplot(1,1,1)\n",
    "ax.plot(w_list, l_array,lw=2,color='red',label='Labour')\n",
    "ax.plot(w_list, c_array,lw=2,color='blue',label='Consumption')\n",
    "\n",
    "ax.set_xlabel('Wage')\n",
    "ax.set_ylabel('Labour/consumption')\n",
    "ax.grid(True)\n",
    "ax.legend(loc='center right');"
   ]
  },
  {
   "cell_type": "markdown",
   "metadata": {},
   "source": [
    "# Question 3"
   ]
  },
  {
   "cell_type": "markdown",
   "metadata": {},
   "source": [
    "Modifying the above code to include uniformly distibuted wages and 1000 draws. Taxes are caluclated for the indiidual and summed at last to get the total tax revenue."
   ]
  },
  {
   "cell_type": "code",
   "execution_count": 4,
   "metadata": {},
   "outputs": [
    {
     "name": "stdout",
     "output_type": "stream",
     "text": [
      "1630.3712228771926\n"
     ]
    }
   ],
   "source": [
    "#Set seed to 1234\n",
    "np.random.seed(1234)\n",
    "\n",
    "#Given parameter values\n",
    "m = 1\n",
    "v = 10\n",
    "epsilon = 0.3\n",
    "tau0 = 0.4\n",
    "tau1 = 0.1\n",
    "kappa = 0.4\n",
    "w_list_tax = np.random.uniform(low=0.5, high=1.5, size=10**4) #Drawing a random number between 0.5 and 1.5 1000 times\n",
    "total_tax = 0 #Initialising total tax revenue variable\n",
    "\n",
    "for i,w_i in enumerate(w_list_tax): #loops over random draws of wages\n",
    "    #Objective function (to minimise)\n",
    "    def value_of_choice(l_i, m, v, epsilon, tau0, tau1, kappa, w_i):\n",
    "        c_i = m + w_i * l_i - (tau0 * w_i * l_i + tau1 * np.maximum(w_i * l_i - kappa, 0)) #Monotonicity dicates c=x in solution\n",
    "        return -inauguralproject.u_func(l_i, c_i, v, epsilon) #the negative utility function is minimised thus the utility function is maximised\n",
    "\n",
    "    #Call solver\n",
    "    sol = optimize.minimize_scalar(value_of_choice, method = 'bounded', bounds=(0,1),args = (m,v,epsilon,tau0,tau1,kappa,w_i))\n",
    "\n",
    "    #Unpack entire solution and append equilibrium values to arrays\n",
    "    l_i = sol.x #individual labour\n",
    "    c_i = m + w_i * l_i - (tau0 * w_i * l_i + tau1 * np.max(w_i * l_i - kappa, 0)) #individual consumption\n",
    "    tax_i = tau0 * w_i * l_i + tau1 * np.maximum(w_i * l_i - kappa, 0) #individual tax\n",
    "    total_tax += tax_i #add individual taxes to the combined tax revenue\n",
    "print(total_tax)"
   ]
  },
  {
   "cell_type": "markdown",
   "metadata": {},
   "source": [
    "# Question 4"
   ]
  },
  {
   "cell_type": "markdown",
   "metadata": {},
   "source": [
    "For question for the same code as in question 3 in run, however, with the modification of epsilon from 0.3 to 0.1. It is apparent that if the Frich elastiity of labour supply drops to a third of the value in q3, total tax revenue almost doubles."
   ]
  },
  {
   "cell_type": "code",
   "execution_count": 5,
   "metadata": {},
   "outputs": [
    {
     "name": "stdout",
     "output_type": "stream",
     "text": [
      "3197.3293856420273\n"
     ]
    }
   ],
   "source": [
    "#Set seed to 1234\n",
    "np.random.seed(1234)\n",
    "\n",
    "#Given parameter values\n",
    "m = 1\n",
    "v = 10\n",
    "epsilon_new = 0.1 #modified epsilon value\n",
    "tau0 = 0.4\n",
    "tau1 = 0.1\n",
    "kappa = 0.4\n",
    "w_list_tax = np.random.uniform(low=0.5, high=1.5, size=10**4) #Drawing a random number between 0.5 and 1.5 1000 times\n",
    "total_tax = 0 #Initialising total tax revenue variable\n",
    "\n",
    "for i,w_i in enumerate(w_list_tax): #loops over random draws of wages\n",
    "    #Objective function (to minimise)\n",
    "    def value_of_choice(l_i, m, v, epsilon_new, tau0, tau1, kappa, w_i):\n",
    "        c_i = m + w_i * l_i - (tau0 * w_i * l_i + tau1 * np.maximum(w_i * l_i - kappa, 0)) #Monotonicity dicates c=x in solution\n",
    "        return -inauguralproject.u_func(l_i, c_i, v, epsilon_new) #the negative utility function is minimised thus the utility function is maximised\n",
    "\n",
    "    #Call solver\n",
    "    sol = optimize.minimize_scalar(value_of_choice, method = 'bounded', bounds=(0,1),args = (m,v,epsilon_new,tau0,tau1,kappa,w_i))\n",
    "\n",
    "    #Unpack entire solution and append equilibrium values to arrays\n",
    "    l_i = sol.x #individual labour\n",
    "    c_i = m + w_i * l_i - (tau0 * w_i * l_i + tau1 * np.max(w_i * l_i - kappa, 0)) #individual consumption\n",
    "    tax_i = tau0 * w_i * l_i + tau1 * np.maximum(w_i * l_i - kappa, 0) #individual tax\n",
    "    total_tax += tax_i #add individual taxes to the combined tax revenue\n",
    "print(total_tax)"
   ]
  },
  {
   "cell_type": "markdown",
   "metadata": {},
   "source": [
    "# Question 5"
   ]
  },
  {
   "cell_type": "markdown",
   "metadata": {},
   "source": [
    "In this question i have attempted to maximise with respect to 3 variabels. This presented a fair few challenges, however, below is my best shot at the correct path. I have packed the relevant variables into a single array, as this enables me to maximise using scipy."
   ]
  },
  {
   "cell_type": "code",
   "execution_count": 6,
   "metadata": {},
   "outputs": [],
   "source": [
    "#Set seed to 1234\n",
    "np.random.seed(1234)\n",
    "\n",
    "#Given parameter values\n",
    "m = 1\n",
    "v = 10\n",
    "epsilon_new = 0.1 #modified epsilon value\n",
    "w_list_tax = np.random.uniform(low=0.5, high=1.5, size=10**4) #Drawing a random number between 0.5 and 1.5 1000 times\n",
    "total_tax = 0 #Initialising total tax revenue variable\n",
    "\n",
    "for i,w_i in enumerate(w_list_tax): #loops over random draws of wages\n",
    "    #Objective function (to minimise)\n",
    "    def value_of_choice(l_i, m, v, epsilon_new, tau0, tau1, kappa, w_i):\n",
    "        c_i = m + w_i * l_i - (tau0 * w_i * l_i + tau1 * np.maximum(w_i * l_i - kappa, 0)) #Monotonicity dicates c=x in solution\n",
    "        return -inauguralproject.u_func(l_i, c_i, v, epsilon_new) #the negative utility function is minimised thus the utility function is maximised\n",
    "\n",
    "    #Call solver\n",
    "    sol = optimize.minimize_scalar(value_of_choice, method = 'bounded', bounds=(0,1),args = (m,v,epsilon_new,tau0,tau1,kappa,w_i))\n",
    "\n",
    "    #Unpack entire solution and append equilibrium values to arrays\n",
    "    l_i = sol.x #individual labour\n",
    "    c_i = m + w_i * l_i - (tau0 * w_i * l_i + tau1 * np.max(w_i * l_i - kappa, 0)) #individual consumption\n",
    "    def taxi(params):\n",
    "        tau0, tau1, kappa = params\n",
    "        print(params)\n",
    "        #print tau0 * w_i * l_i + tau1 * np.maximum(w_i * l_i - kappa, 0) #individual tax\n",
    "        #return int(tax_i)\n",
    "    #print(type(tax_i))\n",
    "    #otal_tax += tax_i #add individual taxes to the combined tax revenue\n",
    "\n",
    "#initial_guess = [1, 1, 1]\n",
    "#result = optimize.minimize(f, initial_guess)\n",
    "#if result.success:\n",
    "#    fitted_params = result.x\n",
    "#    print(fitted_params)"
   ]
  },
  {
   "cell_type": "markdown",
   "metadata": {},
   "source": [
    "# Conclusion"
   ]
  },
  {
   "cell_type": "markdown",
   "metadata": {},
   "source": [
    "Questions one through four has been answered, yet for question 5 I have not been able to find a solution. The module, while used a little, would be especially helpful in cleaning up this code."
   ]
  }
 ],
 "metadata": {
  "kernelspec": {
   "display_name": "Python 3",
   "language": "python",
   "name": "python3"
  },
  "language_info": {
   "codemirror_mode": {
    "name": "ipython",
    "version": 3
   },
   "file_extension": ".py",
   "mimetype": "text/x-python",
   "name": "python",
   "nbconvert_exporter": "python",
   "pygments_lexer": "ipython3",
   "version": "3.7.4"
  },
  "toc-autonumbering": true
 },
 "nbformat": 4,
 "nbformat_minor": 4
}