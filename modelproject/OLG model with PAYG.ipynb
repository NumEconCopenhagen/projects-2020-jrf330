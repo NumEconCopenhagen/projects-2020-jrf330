{
 "cells": [
  {
   "cell_type": "markdown",
   "metadata": {},
   "source": [
    "# Overlapping Generation Model with Pay-As-You-Go"
   ]
  },
  {
   "cell_type": "markdown",
   "metadata": {},
   "source": [
    "Imports and set magics:"
   ]
  },
  {
   "cell_type": "code",
   "execution_count": 4,
   "metadata": {},
   "outputs": [
    {
     "name": "stdout",
     "output_type": "stream",
     "text": [
      "The autoreload extension is already loaded. To reload it, use:\n",
      "  %reload_ext autoreload\n"
     ]
    }
   ],
   "source": [
    "import numpy as np\n",
    "from scipy import optimize\n",
    "from scipy import linalg\n",
    "import sympy as sm\n",
    "import matplotlib.pyplot as plt\n",
    "\n",
    "# autoreload modules when code is run\n",
    "%load_ext autoreload\n",
    "%autoreload 2"
   ]
  },
  {
   "cell_type": "markdown",
   "metadata": {
    "toc-hr-collapsed": true
   },
   "source": [
    "## Model description"
   ]
  },
  {
   "cell_type": "markdown",
   "metadata": {},
   "source": [
    "We consider a production economy populated by agents that live for two periods and as such overlapping generations. Time, $t$, is discrete and infinite. $L_t$ individuals are born i period t and the popultation grows at a constant rate $n$ such that:\n",
    "\n",
    "$$L_t=L_{t-1}+n)$$\n",
    "\n",
    "Agents derive utility from consumption while alive:\n",
    "\n",
    " $$U_t=u(c_{1t})+\\frac{1}{1+\\rho}u(c_{2t})$$\n",
    "\n",
    "where\n",
    "1. $c_{1t}$ is consumption when young at time $t$\n",
    "* $c_{2t}$ is consumption when old at time $t$+1\n",
    "* $\\rho$ is the dicount rate and\n",
    "* $u(x)=log(x)$, i.e. the special case of logagrithmic utility is examined\n",
    "\n",
    "Agents work when young supplying 1 unit of labour inelastically at wage rate $w_t$. They split the labour income between consumption, $c_{1t}$, and savings, $s_t$. When old, they retire and solely consume their gross savings. We let $r_{t+1}$ denote the interest rate between $t$ and $t+1$. Thus, agents face the following budget constrints in period 1 and 2 respectively:\n",
    "\n",
    "$$c_{1t}+s_t=w_t$$\n",
    "$$c_{2t}=(1+r_{t+2})s_t$$\n",
    "\n",
    "By substituting out $s_t$ the lifetime budget constraint emerges:\n",
    "\n",
    "$$c_{1t}+\\frac{c_{2t+1}}{1+r_{t+1}}=w_t$$\n",
    "\n",
    "We assume the production function is Cobb-Douglas with standard properties so:\n",
    "\n",
    "$$ F(K_{t},L_{t})=K_{t}^{\\alpha}L_{t}^{1-\\alpha}$$"
   ]
  },
  {
   "cell_type": "markdown",
   "metadata": {},
   "source": [
    "## Analytical solution"
   ]
  },
  {
   "cell_type": "markdown",
   "metadata": {},
   "source": [
    "Using Sympy the analytical solution can be found using a similar approach as presented in the KU course Macroeconomics III.\n",
    "First we consider the households' problem."
   ]
  },
  {
   "cell_type": "markdown",
   "metadata": {},
   "source": [
    "### Households' problem"
   ]
  },
  {
   "cell_type": "markdown",
   "metadata": {},
   "source": [
    "The households' problem is solved by firstly setting up the lagrangian, finding the first order conditions with respect to consumptions from which the Euler equation can be derived."
   ]
  },
  {
   "cell_type": "code",
   "execution_count": 5,
   "metadata": {},
   "outputs": [],
   "source": [
    "#Define variabels\n",
    "c1 = sm.symbols('c_1t')\n",
    "c2 = sm.symbols('c_2t+1')\n",
    "st = sm.symbols('s_t')\n",
    "rho = sm.symbols('rho')\n",
    "wt = sm.symbols('w_t')\n",
    "rt1 = sm.symbols('r_t+1')\n",
    "la = sm.symbols('lambda')"
   ]
  },
  {
   "cell_type": "code",
   "execution_count": 6,
   "metadata": {},
   "outputs": [
    {
     "data": {
      "text/latex": [
       "$\\displaystyle \\frac{c_{2t+1} \\left(\\rho + 1\\right)}{r_{t+1} + 1} = c_{1t}$"
      ],
      "text/plain": [
       "Eq(c_2t+1*(rho + 1)/(r_t+1 + 1), c_1t)"
      ]
     },
     "metadata": {},
     "output_type": "display_data"
    }
   ],
   "source": [
    "#Set up utility, budget constraints and lagrangian\n",
    "uc1 = sm.ln(c1)\n",
    "uc2 = sm.ln(c2)\n",
    "U = uc1 + 1/(1+rho) * uc2\n",
    "bc1 = wt-st #budget constraint for period 1\n",
    "bc2 = (1+rt1)*st ##budget constraint for period 1\n",
    "bc = c1 + c2 / (1+rt1) - wt #lifetime budget constraint\n",
    "L = U + la * (-1)*bc\n",
    "\n",
    "#Finding FOCs\n",
    "foc1 = sm.Eq(0,sm.diff(L,c1))\n",
    "foc2 = sm.Eq(0,sm.diff(L,c2))\n",
    "\n",
    "#Solve for the lagrangian multiplyer\n",
    "la1 = sm.solve(foc1,la)[0]\n",
    "la2 = sm.solve(foc2,la)[0]\n",
    "                \n",
    "#Euler equation\n",
    "euler = sm.solve(sm.Eq(la1,la2),c1)[0] #Equate lambdas and solve\n",
    "eulereq = sm.Eq(euler, c1)\n",
    "display(eulereq)"
   ]
  },
  {
   "cell_type": "markdown",
   "metadata": {},
   "source": [
    "Thus the Euler equation has been found. This equation decribes how marginal utilities of consumption between youth and old age are optimally related.\n",
    "To characterise optimal savings, we combine the Euler equation and agents' budget constraints for individual periods."
   ]
  },
  {
   "cell_type": "code",
   "execution_count": 7,
   "metadata": {},
   "outputs": [
    {
     "data": {
      "text/latex": [
       "$\\displaystyle \\frac{w_{t}}{\\rho + 2} = s_{t}$"
      ],
      "text/plain": [
       "Eq(w_t/(rho + 2), s_t)"
      ]
     },
     "metadata": {},
     "output_type": "display_data"
    }
   ],
   "source": [
    "#substitute for savings\n",
    "euler_sav = eulereq.subs(c1,bc1)\n",
    "euler_sav1 = euler_sav.subs(c2,bc2)\n",
    "\n",
    "#Solve for optimal savings\n",
    "\n",
    "saving = sm.solve(euler_sav1,st)[0] #Solve\n",
    "opt_saving = sm.Eq(saving, st) #equate with s_t\n",
    "display(opt_saving)"
   ]
  },
  {
   "cell_type": "markdown",
   "metadata": {},
   "source": [
    "Thus optimal savings have been found. For the log utility case substitution and income effects of the interest rate cancel out. A constant fraction of labour income is saved. "
   ]
  },
  {
   "cell_type": "markdown",
   "metadata": {},
   "source": [
    "### Firms' Problem"
   ]
  },
  {
   "cell_type": "markdown",
   "metadata": {},
   "source": [
    "The firms' problem for the Cobb-Douglas case is solved using first order conditions. The firms maximisation problem is\n",
    "$$ max      K_{t}^{\\alpha}L_{t}^{1-\\alpha}-r_tK_t-w_tL_t$$"
   ]
  },
  {
   "cell_type": "code",
   "execution_count": 8,
   "metadata": {},
   "outputs": [
    {
     "data": {
      "text/latex": [
       "$\\displaystyle r_{t} = \\alpha k_{t}^{\\alpha - 1}$"
      ],
      "text/plain": [
       "Eq(r_t, alpha*k_t**(alpha - 1))"
      ]
     },
     "metadata": {},
     "output_type": "display_data"
    },
    {
     "data": {
      "text/latex": [
       "$\\displaystyle w_{t} = k_{t}^{\\alpha} \\left(1 - \\alpha\\right)$"
      ],
      "text/plain": [
       "Eq(w_t, k_t**alpha*(1 - alpha))"
      ]
     },
     "metadata": {},
     "output_type": "display_data"
    }
   ],
   "source": [
    "#Define variables\n",
    "alpha = sm.symbols('alpha')\n",
    "K = sm.symbols('K_t')\n",
    "k = sm.symbols('k_t')\n",
    "k1 = sm.symbols('k_t+1')\n",
    "L = sm.symbols('L_t')\n",
    "n = sm.symbols('n')\n",
    "rt = sm.symbols('r_t')\n",
    "wt = sm.symbols('w_t')\n",
    "Y = sm.symbols('Y')\n",
    "\n",
    "#Set up production function\n",
    "Y = K**alpha * L**(1-alpha)\n",
    "\n",
    "#Find partial derivatives\n",
    "dyk = sm.diff(Y,K)\n",
    "dyl = sm.diff(Y,L)\n",
    "\n",
    "#Solve for interest rate and wage\n",
    "rate = sm.Eq(rt,dyk) \n",
    "wage = sm.Eq(wt,dyl)\n",
    "\n",
    "#Find per worker expressions\n",
    "rate_pw = sm.Eq(rt,(alpha*k**(alpha-1)))\n",
    "wage_pw = sm.Eq(wt, ((1-alpha)*k**(alpha)))\n",
    "display(rate_pw,wage_pw)"
   ]
  },
  {
   "cell_type": "markdown",
   "metadata": {},
   "source": [
    "Thus the firms' problem has been solved for per worker optimal values."
   ]
  },
  {
   "cell_type": "markdown",
   "metadata": {},
   "source": [
    "### Capital Accumulation per Worker"
   ]
  },
  {
   "cell_type": "markdown",
   "metadata": {},
   "source": [
    "Capital per worker in period $t+1$ is equal to the savings in the previous period:\n",
    "$$k_{t+1}(1+n)=s_t$$\n",
    "Optimal savings are substituted in and the equation is solved for the per worker capital in period $t+1$."
   ]
  },
  {
   "cell_type": "code",
   "execution_count": 9,
   "metadata": {},
   "outputs": [
    {
     "data": {
      "text/latex": [
       "$\\displaystyle k_{t+1} = \\frac{k_{t}^{\\alpha} \\left(1 - \\alpha\\right)}{n \\rho + 2 n + \\rho + 2}$"
      ],
      "text/plain": [
       "Eq(k_t+1, k_t**alpha*(1 - alpha)/(n*rho + 2*n + rho + 2))"
      ]
     },
     "metadata": {},
     "output_type": "display_data"
    }
   ],
   "source": [
    "#Substitute for optimal savings\n",
    "savings = opt_saving.subs(wt, ((1-alpha)*k**(alpha)))\n",
    "\n",
    "#Use definition of aggregate capital\n",
    "cap = k1 * (1+n)\n",
    "agg_cap = savings.subs(st,cap)\n",
    "\n",
    "#Solve for k_t+1 to obtain law of-motion\n",
    "lom = sm.solve(agg_cap,k1)[0]\n",
    "lom = sm.Eq(k1,lom)\n",
    "display(lom)"
   ]
  },
  {
   "cell_type": "markdown",
   "metadata": {},
   "source": [
    "Thus the law of motion for capital accumulation per worker has been found.The function is concave, so there will be a unique steady state (SS) and capital stock will converge to it\n",
    "To find the steady state, we use that in SS $k_t=k_{t+1}=k^*$:"
   ]
  },
  {
   "cell_type": "code",
   "execution_count": 10,
   "metadata": {},
   "outputs": [
    {
     "data": {
      "text/latex": [
       "$\\displaystyle k^{*} = \\left(\\frac{- n \\rho - 2 n - \\rho - 2}{\\alpha - 1}\\right)^{\\frac{1}{\\alpha - 1}}$"
      ],
      "text/plain": [
       "Eq(k^*, ((-n*rho - 2*n - rho - 2)/(alpha - 1))**(1/(alpha - 1)))"
      ]
     },
     "metadata": {},
     "output_type": "display_data"
    }
   ],
   "source": [
    "#Define SS capital variable \n",
    "kstar = sm.symbols('k^*')\n",
    "\n",
    "#Use rule for SS\n",
    "lom1 = lom.subs(k1, kstar)\n",
    "lom2 = lom1.subs(k, kstar)\n",
    "\n",
    "#Solve for k*\n",
    "lom3 = sm.solve(lom2, kstar)[0]\n",
    "lom4 = sm.Eq(kstar,lom3)\n",
    "display(lom4)"
   ]
  },
  {
   "cell_type": "markdown",
   "metadata": {},
   "source": [
    "Thus the algebraic SS solution has been found.\n",
    "For later use, we turn the solution into a python function"
   ]
  },
  {
   "cell_type": "code",
   "execution_count": 11,
   "metadata": {},
   "outputs": [],
   "source": [
    "ss_func = sm.lambdify((n, rho, alpha),lom3)"
   ]
  },
  {
   "cell_type": "markdown",
   "metadata": {},
   "source": [
    "## Numerical solution"
   ]
  },
  {
   "cell_type": "markdown",
   "metadata": {},
   "source": [
    "We can re-write the equation for the steady state capital per capita as\n",
    "\n",
    "$$0 = \\frac{(k_t^*)^\\alpha (1-\\alpha)}{n\\rho+2n+\\rho+2}-k_{t+1}^*$$\n",
    "\n",
    "whereby it clearly becomes a **root-finding problem**. Such a problem can be solved by a **bisection method**."
   ]
  },
  {
   "cell_type": "code",
   "execution_count": 19,
   "metadata": {},
   "outputs": [
    {
     "name": "stdout",
     "output_type": "stream",
     "text": [
      "The analytical SS solution is: 0.176\n",
      "The numerical SS soltion is: 0.1762187469065779\n"
     ]
    }
   ],
   "source": [
    "#Define parameter values\n",
    "alpha = 1/3\n",
    "n = 0.01\n",
    "rho = 0.1\n",
    "\n",
    "#Define objective function i.e. the low of motion as seen above\n",
    "f = lambda k:k**alpha #input for the objective function\n",
    "obj_kss = lambda kss: kss - (f(kss)*(1-alpha))/(n*rho+2*n+rho+2) #the objective functiin is the law of motion\n",
    "\n",
    "#Optimize using the bisect method\n",
    "result = optimize.root_scalar(obj_kss,bracket=[0.1,100],method='bisect')\n",
    "\n",
    "print(f'The analytical SS solution is: {ss_func(n, rho, alpha):.3f}')\n",
    "print('The numerical SS soltion is:',result.root)"
   ]
  },
  {
   "cell_type": "markdown",
   "metadata": {},
   "source": [
    "The analytical and numarical results are virtually the same."
   ]
  },
  {
   "cell_type": "code",
   "execution_count": 13,
   "metadata": {},
   "outputs": [
    {
     "data": {
      "application/vnd.jupyter.widget-view+json": {
       "model_id": "57de6d2b48ee40a79490beb31f7660ea",
       "version_major": 2,
       "version_minor": 0
      },
      "text/plain": [
       "interactive(children=(FloatSlider(value=0.1, description='rho', max=16.0, step=0.01), Output()), _dom_classes=…"
      ]
     },
     "metadata": {},
     "output_type": "display_data"
    }
   ],
   "source": [
    "def transition(k,alpha,rho,n):\n",
    "    w = k**alpha * (1-alpha)\n",
    "    s = w / (rho+2)\n",
    "    k1 = s / (n+1)\n",
    "    return k1\n",
    "\n",
    "def transition_curve(alpha,rho,n):\n",
    "    \n",
    "    #grids\n",
    "    k_1 = np.linspace(1e-20,6,1000)\n",
    "    k_2 = np.empty(1000)\n",
    "    \n",
    "    #construct array of next periods capita\n",
    "    for i,k in enumerate(k_1):\n",
    "        k_plus = transition(k,alpha,rho,n)\n",
    "        k_2[i] = k_plus\n",
    "        \n",
    "    return k_1, k_2\n",
    "\n",
    "def fig(rho):\n",
    "    k_1, k_2 = transition_curve(alpha,rho,n)\n",
    "    fig = plt.figure()\n",
    "    ax = fig.add_subplot(1,1,1)\n",
    "    ax.plot(k_1,k_2)\n",
    "    ax.plot(k_1,k_1, '--', color='grey')\n",
    "    plt.text(0.35,0.26,'$k_t+1$')\n",
    "    plt.text(0.35,0.32,'$k_t=k_t+1$')\n",
    "    plt.text(0.2,0.22,'$k^*$')\n",
    "    ax.set_xlabel('$k_t$')\n",
    "    ax.set_ylabel('$k_t+1$')\n",
    "    ax.set_title('Transition curve')\n",
    "    ax.set_xlim([0,0.4])\n",
    "    ax.set_ylim([0,0.4]);\n",
    "    return\n",
    "\n",
    "import ipywidgets as widgets\n",
    "widgets.interact(fig, \n",
    "    rho = widgets.FloatSlider(description='rho', min=0, max=16, step=0.01, value=0.1),\n",
    ");"
   ]
  },
  {
   "cell_type": "markdown",
   "metadata": {},
   "source": [
    "## Pay-As-You-Go Extenstion"
   ]
  },
  {
   "cell_type": "markdown",
   "metadata": {},
   "source": [
    "In a pay-as-you-go (PAYG) system the governemnt raises contributions $d_t$ from current young and pays them out as benefit to current old:\n",
    "$$b_t=(1+n)d_t$$\n",
    "Thus the budget contraints change from the basic example. When young in period $t$ th ebudget constraint is\n",
    "$$c_{1r}+s_t+d_t=w_t$$\n",
    "while when old in period $t+1$ the budget constraint is\n",
    "$$c_{2t+1}=(1+r_{t+1})s_t+(1+n)d_{t+1}$$\n",
    "Thus the lifetime budget constraint is \n",
    "$$c_{2t+1}=(1+r_{t+1})s_t+dw_t$$\n",
    "\n",
    "We start by setting up a modified lagrangian, solving first order conditions and solving for the new Euler equation."
   ]
  },
  {
   "cell_type": "code",
   "execution_count": 14,
   "metadata": {},
   "outputs": [
    {
     "data": {
      "text/latex": [
       "$\\displaystyle \\frac{c_{2t+1} \\left(\\rho + 1\\right)}{r_{t+1} + 1} = c_{1t}$"
      ],
      "text/plain": [
       "Eq(c_2t+1*(rho + 1)/(r_t+1 + 1), c_1t)"
      ]
     },
     "metadata": {},
     "output_type": "display_data"
    }
   ],
   "source": [
    "#Define new variables\n",
    "d = sm.symbols('d_t')\n",
    "\n",
    "#New life time budget constraint\n",
    "new_bc = c1+c2/(1+rt1)-d/(1+rt1)*wt-(1-d)*wt\n",
    "\n",
    "#New lagrangian\n",
    "L1 = U + la * (-1)*new_bc\n",
    "\n",
    "#First order conditions\n",
    "foc3 = sm.Eq(0,sm.diff(L1,c1))\n",
    "foc4 = sm.Eq(0,sm.diff(L1,c2))\n",
    "\n",
    "#Solve first order conditions\n",
    "lam1 = sm.solve(foc3,la)[0]\n",
    "lam2 = sm.solve(foc4,la)[0]\n",
    "\n",
    "#Solve for Euler equation\n",
    "euler1 = sm.solve(sm.Eq(lam1,lam2),c1)[0] \n",
    "euler2 = sm.Eq(euler1, c1)\n",
    "display(euler2)"
   ]
  },
  {
   "cell_type": "markdown",
   "metadata": {},
   "source": [
    "It is immidiately noticable that the Euler equation has not changed. This is due to contributions are taken as a given.\n",
    "Again, we substitute out consumption with budget constraints and solve for savings."
   ]
  },
  {
   "cell_type": "code",
   "execution_count": 15,
   "metadata": {},
   "outputs": [
    {
     "data": {
      "text/latex": [
       "$\\displaystyle \\frac{w_{t} \\left(- d_{t} r_{t+1} - d_{t} \\rho - 2 d_{t} + r_{t+1} + 1\\right)}{r_{t+1} \\rho + 2 r_{t+1} + \\rho + 2} = s_{t}$"
      ],
      "text/plain": [
       "Eq(w_t*(-d_t*r_t+1 - d_t*rho - 2*d_t + r_t+1 + 1)/(r_t+1*rho + 2*r_t+1 + rho + 2), s_t)"
      ]
     },
     "execution_count": 15,
     "metadata": {},
     "output_type": "execute_result"
    }
   ],
   "source": [
    "# substituting\n",
    "new_euler3 = euler2.subs(c2,((1+rt1)*st+d*wt))\n",
    "new_euler4 = new_euler3.subs(c1,(wt-st-d*wt))\n",
    "\n",
    "# solving for savings\n",
    "new_saving = sm.solve(new_euler4,st)[0]\n",
    "opt_saving = sm.Eq(new_saving,st)\n",
    "opt_saving"
   ]
  },
  {
   "cell_type": "markdown",
   "metadata": {},
   "source": [
    "A new optimal individual saving has been found.\n",
    "While the firms' problem remains unchanged we immidiately proceed to finding the new capital accumulation.\n",
    "We proceed by creating and plotting the new capital accumulation curve.\n",
    "\n",
    "It should be noticed that this does not exhibit the same standard properties at would be expected from analysing this scenario, which basis for believing that this might be incorrect. Specifically, individual savings are not positively correlated with the the future benefits."
   ]
  },
  {
   "cell_type": "code",
   "execution_count": 21,
   "metadata": {},
   "outputs": [
    {
     "ename": "SyntaxError",
     "evalue": "invalid syntax (<lambdifygenerated-5>, line 1)",
     "output_type": "error",
     "traceback": [
      "Traceback \u001b[1;36m(most recent call last)\u001b[0m:\n",
      "  File \u001b[0;32m\"C:\\Users\\marcu\\Anaconda3\\lib\\site-packages\\IPython\\core\\interactiveshell.py\"\u001b[0m, line \u001b[0;32m3326\u001b[0m, in \u001b[0;35mrun_code\u001b[0m\n    exec(code_obj, self.user_global_ns, self.user_ns)\n",
      "  File \u001b[0;32m\"<ipython-input-21-0ddc7b15b7e8>\"\u001b[0m, line \u001b[0;32m3\u001b[0m, in \u001b[0;35m<module>\u001b[0m\n    sav_func = sm.lambdify((k,alpha,d,rho),new_saving)\n",
      "\u001b[1;36m  File \u001b[1;32m\"C:\\Users\\marcu\\Anaconda3\\lib\\site-packages\\sympy\\utilities\\lambdify.py\"\u001b[1;36m, line \u001b[1;32m773\u001b[1;36m, in \u001b[1;35mlambdify\u001b[1;36m\u001b[0m\n\u001b[1;33m    c = compile(funcstr, filename, 'exec')\u001b[0m\n",
      "\u001b[1;36m  File \u001b[1;32m\"<lambdifygenerated-5>\"\u001b[1;36m, line \u001b[1;32m1\u001b[0m\n\u001b[1;33m    def _lambdifygenerated(k_t, 0.3333333333333333, d_t, 0.1):\u001b[0m\n\u001b[1;37m                                                 ^\u001b[0m\n\u001b[1;31mSyntaxError\u001b[0m\u001b[1;31m:\u001b[0m invalid syntax\n"
     ]
    }
   ],
   "source": [
    "sav1 = opt_saving.subs(rt1,(alpha*k**(alpha-1)))\n",
    "sav2 = sav1.subs(wt,(1-alpha)*k**(alpha))\n",
    "sav_func = sm.lambdify((k,alpha,d,rho),new_saving)\n",
    "\n",
    "def transition_payg(k,alpha,rho,d,n):\n",
    "    w = k**alpha * (1-alpha)\n",
    "    s = sav_func(k,alpha,d,rho)\n",
    "    k1 = s / (n+1)\n",
    "    return k1\n",
    "\n",
    "#Something goes wrong here. This will be fixed as quickly as possible."
   ]
  },
  {
   "cell_type": "code",
   "execution_count": 22,
   "metadata": {},
   "outputs": [
    {
     "data": {
      "application/vnd.jupyter.widget-view+json": {
       "model_id": "5ddc2f75ec774e0383d1a1d040c1c757",
       "version_major": 2,
       "version_minor": 0
      },
      "text/plain": [
       "interactive(children=(FloatSlider(value=0.1, description='d', max=1.0, step=0.01), Output()), _dom_classes=('w…"
      ]
     },
     "metadata": {},
     "output_type": "display_data"
    }
   ],
   "source": [
    "\n",
    "#initializing parameters again\n",
    "d = 0.3\n",
    "alpha = 0.3\n",
    "n = 0.01\n",
    "rho = 0.1\n",
    "\n",
    "def fig_payg(d):\n",
    "    k_1_payg, k_2_payg = transition_curve_payg(alpha,rho,n,d,rt)\n",
    "    k_1, k_2 = transition_curve(alpha,rho,n)\n",
    "    fig = plt.figure()\n",
    "    ax = fig.add_subplot(1,1,1)\n",
    "    ax.plot(k_1_payg,k_2_payg,label=\"PAYG\")\n",
    "    ax.plot(k_1,k_2,label=\"Baseline\")\n",
    "    ax.plot(k_1_payg,k_1_payg, '--', color='grey')\n",
    "    ax.set_xlabel('$k_t$')\n",
    "    ax.set_ylabel('$k_t+1$')\n",
    "    ax.set_title('Transition curve')\n",
    "    ax.set_xlim([0,0.2])\n",
    "    ax.set_ylim([0,0.2]);\n",
    "    ax.legend()\n",
    "    return\n",
    "\n",
    "import ipywidgets as widgets\n",
    "widgets.interact(fig_payg, \n",
    "    d = widgets.FloatSlider(description='d', min=0, max=1, step=0.01, value=0.1),\n",
    ");"
   ]
  },
  {
   "cell_type": "markdown",
   "metadata": {},
   "source": [
    "Obviously this plot is not working, due to the above root cause. The plot when functioning would show that for logarithmic utility functions a PAYG system will decrease capital accumulation."
   ]
  },
  {
   "cell_type": "markdown",
   "metadata": {},
   "source": [
    "# Conclusion"
   ]
  },
  {
   "cell_type": "markdown",
   "metadata": {},
   "source": [
    "It can be seen that solving the PAYG OLG model both analytically and numerically provides the same useful insights into the funding of a social security system where the young pays taxes which are provided to the old in terms of benefits. Capital accumulation is smaller in an economy with PAYG."
   ]
  }
 ],
 "metadata": {
  "kernelspec": {
   "display_name": "Python 3",
   "language": "python",
   "name": "python3"
  },
  "language_info": {
   "codemirror_mode": {
    "name": "ipython",
    "version": 3
   },
   "file_extension": ".py",
   "mimetype": "text/x-python",
   "name": "python",
   "nbconvert_exporter": "python",
   "pygments_lexer": "ipython3",
   "version": "3.7.4"
  },
  "toc-autonumbering": true
 },
 "nbformat": 4,
 "nbformat_minor": 4
}
